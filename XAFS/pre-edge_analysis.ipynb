{
 "cells": [
  {
   "cell_type": "markdown",
   "id": "09a42a4a-59b4-4e69-bb55-939d56bf97c9",
   "metadata": {},
   "source": [
    "# pre-edge解析"
   ]
  },
  {
   "cell_type": "code",
   "execution_count": 1,
   "id": "2ce0183b-c5ae-43fb-8145-151291c0ac22",
   "metadata": {
    "tags": []
   },
   "outputs": [
    {
     "name": "stdout",
     "output_type": "stream",
     "text": [
      "C:\\Users\\cocoa\\Documents\\実験\\BL-12C\\220702-BL12C-Fe\n"
     ]
    }
   ],
   "source": [
    "# データを総合して解析を行う\n",
    "import os\n",
    "import scipy.optimize\n",
    "import pandas as pd\n",
    "import numpy as np\n",
    "import glob #フォルダ内の特定の拡張子のファイルを一括で読み込む\n",
    "%matplotlib inline\n",
    "import matplotlib.pyplot as plt\n",
    "os.chdir(\"C:\\\\Users\\\\cocoa\\\\Documents\\\\実験\\\\BL-12C\\\\220702-BL12C-Fe\")\n",
    "print(os.getcwd())"
   ]
  },
  {
   "cell_type": "code",
   "execution_count": 2,
   "id": "87fe5dbc-88ee-438a-b335-bf2e4e1120c5",
   "metadata": {},
   "outputs": [],
   "source": [
    "\"\"\"フォルダ内のXANファイルをすべて読み込む\"\"\"\n",
    "spectrum=[[],[],[]]\n",
    "n,m = 1, 1\n",
    "\n",
    "for filename in glob.glob(\"*.xan*\"):\n",
    "    p = pd.read_csv(filename)\n",
    "    \n",
    "    for i in range(len(p)):\n",
    "        if p[\"[XAN_DATA]\"][i]==\"[BG_BEGIN]\":\n",
    "            n = i\n",
    "        elif p[\"[XAN_DATA]\"][i]==\"[BG_END]\":\n",
    "            m = i\n",
    "        else: continue\n",
    "    \n",
    "    data = pd.read_csv(filename,encoding=\"SHIFT_JIS\",sep=('\\t'),usecols=[1,2,3,4],names=[1,2,3,4],\n",
    "                       skiprows=n+3)[1:m-n]\n",
    "    spectrum[0].append(data[1])\n",
    "    spectrum[1].append(data[2])\n",
    "    spectrum[2].append(filename)\n"
   ]
  },
  {
   "cell_type": "code",
   "execution_count": 3,
   "id": "1d02af06-aff2-4e95-8ff0-a8fcb2f6ffdc",
   "metadata": {},
   "outputs": [
    {
     "name": "stdout",
     "output_type": "stream",
     "text": [
      "sample list\n",
      "0  ammonium_oxalate_Fe_dat.xan\n",
      "1  biotite_dat.xan\n",
      "2  Fe3O4_dat.xan\n",
      "3  FeC2O4_2H2O_dat.xan\n",
      "4  ferrihydrite_dat.xan\n",
      "5  ferritin_dat.xan\n",
      "6  ferritin_EX_dat (1).xan\n",
      "7  ferritin_EX_dat.xan\n",
      "8  FeS_dat.xan\n",
      "9  goethite_dat.xan\n",
      "10  hematite_dat.xan\n",
      "11  MKR_02_liver_0_s_intp.xan\n",
      "12  MKR_02_liver_2_0_s_intp_averaged.xan\n",
      "13  MKR_02_liver_sdd.xan\n",
      "14  MKR_02_ovary.xan\n",
      "15  MKR_02_Red_muscle-3.xan\n",
      "16  MKR_02_Red_muscle_0_s.xan\n",
      "17  MKR_02_red_muscle_sdd.xan\n",
      "18  MKR_02_White_muscle_3.xan\n",
      "19  MKR_02_white_muscle_step.xan\n",
      "20  MKR_04_liver-1_0_s_intp.xan\n",
      "21  MKR_04_liver-2_gain10_0_s_intp.xan\n",
      "22  MKR_04_liver_sdd.xan\n",
      "23  MKR_04_ovary.xan\n",
      "24  MKR_04_Red_muscle-1_0_s_intp.xan\n",
      "25  MKR_04_Red_muscle-1_0_s_intp_averaged.xan\n",
      "26  MKR_04_Red_Muscle.xan\n",
      "27  MKR_04_red_muscle_sdd.xan\n",
      "28  MKR_04_White_muscle.xan\n",
      "29  MKR_06_blood_sdd.xan\n",
      "30  MKR_06_heart.xan\n",
      "31  MKR_06_liver_sdd.xan\n",
      "32  MKR_06_Red_muscle_0_s_intp.xan\n",
      "33  MKR_06_Red_muscle_averaged.xan\n",
      "34  MKR_06_red_muscle_sdd.xan\n",
      "35  MKR_06_Red_muscle_step_re.xan\n",
      "36  MKR_06_Teste.xan\n",
      "37  MKR_06_white_muscle_sdd.xan\n",
      "38  MKR_07_blood_sdd.xan\n",
      "39  MKR_07_liver_sdd.xan\n",
      "40  MKR_07_red_muscle_sdd.xan\n",
      "41  MKR_07_white_muscle_sdd.xan\n",
      "42  MKR_08_blood.xan\n",
      "43  MKR_08_heart.xan\n",
      "44  MKR_08_liver.xan\n",
      "45  MKR_08_red_muscle.xan\n",
      "46  MKR_08_Teste.xan\n",
      "47  MKR_08_white_muscle.xan\n"
     ]
    }
   ],
   "source": [
    "print(\"sample list\")\n",
    "for i in range(len(spectrum[2])):\n",
    "    print(str(i)+\"  \"+spectrum[2][i])"
   ]
  },
  {
   "cell_type": "code",
   "execution_count": 4,
   "id": "8312c233-9aba-47a9-819b-4ac11425f82c",
   "metadata": {},
   "outputs": [
    {
     "name": "stdout",
     "output_type": "stream",
     "text": [
      "拡大範囲を選択\n"
     ]
    },
    {
     "data": {
      "text/plain": [
       "Text(0.5, 1.0, 'MKR_06_liver_sdd.xan')"
      ]
     },
     "execution_count": 4,
     "metadata": {},
     "output_type": "execute_result"
    },
    {
     "name": "stdout",
     "output_type": "stream",
     "text": [
      "button=1, x=170, y=93, xdata=7105.770609, ydata=0.003015\n",
      "button=1, x=210, y=104, xdata=7113.655914, ydata=0.039642\n"
     ]
    }
   ],
   "source": [
    "data_num = 31\n",
    "%matplotlib qt\n",
    "print(\"拡大範囲を選択\")\n",
    "fig = plt.figure(figsize=(10,8))\n",
    "ax = fig.add_subplot(111)\n",
    "ax.set_xlabel(\"energy [eV]\",fontsize=16)\n",
    "ax.set_ylabel(\" \")\n",
    "ax.set_xlim(7090, 7200)\n",
    "ax.grid()\n",
    "ax.tick_params(left=False)\n",
    "data_range = []\n",
    "\n",
    "def onclick(event):\n",
    "    if event.xdata == None or event.ydata == None:\n",
    "        return\n",
    "    else:\n",
    "        print( 'button=%d, x=%d, y=%d, xdata=%f, ydata=%f' %(\n",
    "            event.button, event.x, event.y, event.xdata, event.ydata))\n",
    "        data_range.append(event.xdata)\n",
    "    \n",
    "\n",
    "fig.canvas.mpl_connect('button_press_event', onclick)\n",
    "\n",
    "energy = [float(i) for i in spectrum[0][data_num]]\n",
    "line = spectrum[1][data_num] \n",
    "ax.scatter(energy,line,linewidth = 3,label=spectrum[2][data_num])\n",
    "plt.title(spectrum[2][data_num])\n"
   ]
  },
  {
   "cell_type": "code",
   "execution_count": 5,
   "id": "260fc389-a936-4f36-bd72-b7f2587c98b1",
   "metadata": {
    "scrolled": true,
    "tags": []
   },
   "outputs": [
    {
     "name": "stdout",
     "output_type": "stream",
     "text": [
      "7105.49794327 7113.25548551\n",
      "94 125\n"
     ]
    }
   ],
   "source": [
    "select_0 = np.ones(len(spectrum[0][data_num]))* data_range[0]\n",
    "select_1 = np.ones(len(spectrum[0][data_num]))* data_range[1]\n",
    "\n",
    "x = [float(s) for s in spectrum[0][data_num]]\n",
    "'''list: spectrumの中の文字列がすべて数値floatではなく文字列strになっているため、上記のようにして数値に変換する'''\n",
    "select_x_0 = abs(x-select_0)\n",
    "select_x_0=select_x_0.tolist()# ndarrayをリストに変換\n",
    "select_x_00=select_x_0.index(min(select_x_0))# 選択した点に一番近い要素のインデックス\n",
    "\n",
    "select_x_1 = abs(x-select_1)\n",
    "select_x_1=select_x_1.tolist()# ndarrayをリストに変換\n",
    "select_x_11 = select_x_1.index(min(select_x_1))# 選択した点に一番近い要素のインデックス\n",
    "print(spectrum[0][data_num][select_x_00], spectrum[0][data_num][select_x_11])\n",
    "print(select_x_00, select_x_11)"
   ]
  },
  {
   "cell_type": "code",
   "execution_count": 6,
   "id": "21c8329e-8dcc-468c-baa8-e6f3b8872133",
   "metadata": {},
   "outputs": [
    {
     "name": "stdout",
     "output_type": "stream",
     "text": [
      "切り取り範囲を選択\n"
     ]
    },
    {
     "data": {
      "text/plain": [
       "Text(0.5, 1.0, 'MKR_06_liver_sdd.xan')"
      ]
     },
     "execution_count": 6,
     "metadata": {},
     "output_type": "execute_result"
    },
    {
     "name": "stdout",
     "output_type": "stream",
     "text": [
      "button=1, x=181, y=116, xdata=7106.725333, ydata=0.006890\n",
      "button=1, x=534, y=336, xdata=7111.944885, ydata=0.043950\n"
     ]
    }
   ],
   "source": [
    "select_range = [spectrum[0][data_num][select_x_00:select_x_11], spectrum[1][data_num][select_x_00:select_x_11]]\n",
    "%matplotlib qt\n",
    "print(\"切り取り範囲を選択\")\n",
    "fig = plt.figure(figsize=(10,8))\n",
    "ax = fig.add_subplot(111)\n",
    "ax.set_xlabel(\"energy [eV]\",fontsize=16)\n",
    "ax.set_ylabel(\" \")\n",
    "ax.grid()\n",
    "ax.tick_params(left=False)\n",
    "data_range = []\n",
    "\n",
    "fig.canvas.mpl_connect('button_press_event', onclick)\n",
    "\n",
    "energy = [float(s) for s in select_range[0]] #これもそのままだとstrオブジェクトだったのでfloatに変換した\n",
    "line = [float(s) for s in select_range[1]] \n",
    "ax.scatter(energy,line,linewidth = 3,label=spectrum[2][data_num])\n",
    "plt.title(spectrum[2][data_num])"
   ]
  },
  {
   "cell_type": "code",
   "execution_count": 7,
   "id": "7aa0e022-33ab-4d72-968b-efdc17ebe1c5",
   "metadata": {},
   "outputs": [
    {
     "name": "stdout",
     "output_type": "stream",
     "text": [
      "7076.17089127 7086.71314734\n"
     ]
    }
   ],
   "source": [
    "select_0 = np.ones(len(select_range[0]))* data_range[0]\n",
    "select_1 = np.ones(len(select_range[1]))* data_range[1]\n",
    "\n",
    "x = [float(s) for s in select_range[0]]\n",
    "'''list: spectrumの中の文字列がすべて数値floatではなく文字列strになっているため、上記のようにして数値に変換する'''\n",
    "select_x_0 = abs(x-select_0)\n",
    "select_x_0=select_x_0.tolist()# ndarrayをリストに変換\n",
    "select_x_00=select_x_0.index(min(select_x_0))# 選択した点に一番近い要素のインデックス\n",
    "\n",
    "select_x_1 = abs(x-select_1)\n",
    "select_x_1=select_x_1.tolist()# ndarrayをリストに変換\n",
    "select_x_11 = select_x_1.index(min(select_x_1))# 選択した点に一番近い要素のインデックス\n",
    "print(spectrum[0][data_num][select_x_00], spectrum[0][data_num][select_x_11])"
   ]
  },
  {
   "cell_type": "code",
   "execution_count": 8,
   "id": "8940e62f-6a6b-47fd-b6c1-962525e1e8a5",
   "metadata": {},
   "outputs": [
    {
     "data": {
      "text/plain": [
       "<matplotlib.collections.PathCollection at 0x2bb52b9bee0>"
      ]
     },
     "execution_count": 8,
     "metadata": {},
     "output_type": "execute_result"
    },
    {
     "data": {
      "image/png": "[encoded data removed]",
      "text/plain": [
       "<Figure size 432x288 with 1 Axes>"
      ]
     },
     "metadata": {
      "needs_background": "light"
     },
     "output_type": "display_data"
    }
   ],
   "source": [
    "'平滑化スプラインの実施'\n",
    "length = len(select_range[0])\n",
    "background = [pd.concat([select_range[0][0:select_x_00],select_range[0][select_x_11:length]]),\n",
    "              pd.concat([select_range[1][0:select_x_00],select_range[1][select_x_11:length]])]\n",
    "              #pre-edgeを除いた部分\n",
    "\n",
    "from scipy import signal, interpolate\n",
    "\n",
    "x = [float(s) for s in background[0]]\n",
    "y = [float(s) for s in background[1]]\n",
    "\n",
    "reg = interpolate.UnivariateSpline(x,y)\n",
    "xs = np.linspace(x[0], x[len(x)-1], len(select_range[0]))\n",
    "\n",
    "regy = reg(xs)\n",
    "%matplotlib inline\n",
    "plt.plot(xs,regy, color=\"red\")\n",
    "plt.scatter(energy, line, color=\"royalblue\")"
   ]
  },
  {
   "cell_type": "code",
   "execution_count": 9,
   "id": "63f72263-01a4-46a5-b2d1-0aaf1bc4bc1c",
   "metadata": {},
   "outputs": [],
   "source": [
    "'raw data - 回帰値'\n",
    "regy_val = [float(s) for s in regy]\n",
    "raw_data = [float(s) for s in select_range[1]]\n",
    "subtract = raw_data - regy\n",
    "energy = [float(s) for s in select_range[0]]\n",
    "\n",
    "'Gaussian Fitting'\n",
    "from scipy.optimize import curve_fit\n",
    "\n",
    "def Gaussian_fit (x, Slope, FWHM, centroid):\n",
    "    Gauss = []\n",
    "    for i in range(len(x)):\n",
    "        Gauss.append(Slope/FWHM/((np.pi/2)**(0.5))*np.exp(-2*((x[i]/1000-7.105)*1000-centroid)**2/(FWHM**2)))   \n",
    "    return Gauss\n",
    "\n",
    "popt, pcov = curve_fit(Gaussian_fit, xdata = energy, ydata = subtract, p0=[0.001, 2 ,5])# popt: 最適化されたパラメータ, pcov : poptの推定共分散"
   ]
  },
  {
   "cell_type": "code",
   "execution_count": 10,
   "id": "10b4fa0c-14eb-4fd9-bf72-2e472530761a",
   "metadata": {},
   "outputs": [
    {
     "name": "stdout",
     "output_type": "stream",
     "text": [
      "Slope, FWHM, centroid\n",
      "[0.05967913 2.30807659 4.64946265]\n"
     ]
    },
    {
     "data": {
      "image/png": "[encoded data removed]",
      "text/plain": [
       "<Figure size 432x288 with 1 Axes>"
      ]
     },
     "metadata": {
      "needs_background": "light"
     },
     "output_type": "display_data"
    }
   ],
   "source": [
    "fit = Gaussian_fit(energy,*popt)\n",
    "plt.plot(energy,fit, color=\"red\")\n",
    "plt.scatter(energy, subtract, color =\"royalblue\")\n",
    "print(\"Slope, FWHM, centroid\")\n",
    "print(popt)"
   ]
  },
  {
   "cell_type": "code",
   "execution_count": null,
   "id": "ad5fbf26-b68f-43bc-befd-0e4f2ca6582d",
   "metadata": {},
   "outputs": [],
   "source": []
  }
 ],
 "metadata": {
  "kernelspec": {
   "display_name": "Python 3",
   "language": "python",
   "name": "python3"
  },
  "language_info": {
   "codemirror_mode": {
    "name": "ipython",
    "version": 3
   },
   "file_extension": ".py",
   "mimetype": "text/x-python",
   "name": "python",
   "nbconvert_exporter": "python",
   "pygments_lexer": "ipython3",
   "version": "3.8.8"
  }
 },
 "nbformat": 4,
 "nbformat_minor": 5
}
